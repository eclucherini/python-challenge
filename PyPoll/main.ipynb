{
 "cells": [
  {
   "cell_type": "code",
   "execution_count": 64,
   "metadata": {},
   "outputs": [],
   "source": [
    "# Start with necessary imports\n",
    "import os\n",
    "import csv"
   ]
  },
  {
   "cell_type": "code",
   "execution_count": 65,
   "metadata": {},
   "outputs": [
    {
     "data": {
      "text/plain": [
       "'Resources\\\\election_data.csv'"
      ]
     },
     "execution_count": 65,
     "metadata": {},
     "output_type": "execute_result"
    }
   ],
   "source": [
    "# Use csv path\n",
    "csvpath = os.path.join(\"Resources\",\"election_data.csv\")\n",
    "csvpath"
   ]
  },
  {
   "cell_type": "code",
   "execution_count": 66,
   "metadata": {},
   "outputs": [],
   "source": [
    "# Define variables\n",
    "candidate_list = []\n",
    "unique_candidates = []\n",
    "total_votes = 0\n",
    "stockham_votes = 0\n",
    "degette_votes = 0\n",
    "doane_votes = 0"
   ]
  },
  {
   "cell_type": "code",
   "execution_count": 67,
   "metadata": {},
   "outputs": [
    {
     "name": "stdout",
     "output_type": "stream",
     "text": [
      "369711\n"
     ]
    }
   ],
   "source": [
    "# Open csv file\n",
    "with open(csvpath) as voter_file:\n",
    "    csvreader = csv.reader(voter_file,delimiter=',')\n",
    "    csv_header = next(csvreader)\n",
    "\n",
    "    # Read each row of data after the header\n",
    "    for row in csvreader:\n",
    "\n",
    "         # Loop through second column to append each row of data to candidates_list (used for unique_candidates list)\n",
    "        candidate_list.append(row[2])\n",
    "\n",
    "        # Count the total number of votes cast\n",
    "        total_votes += 1\n",
    "\n",
    "        # Calculate number of votes for each candidate\n",
    "        if row[2] == \"Charles Casper Stockham\":\n",
    "            stockham_votes += 1\n",
    "        elif row[2] == \"Diana DeGette\":\n",
    "            degette_votes += 1\n",
    "        else:\n",
    "            doane_votes += 1\n",
    "\n",
    "    print(total_votes)\n",
    "    print(stockham_votes)\n",
    "    print(degette_votes)\n",
    "    print(doane_votes)"
   ]
  },
  {
   "cell_type": "code",
   "execution_count": 68,
   "metadata": {},
   "outputs": [
    {
     "name": "stdout",
     "output_type": "stream",
     "text": [
      "['Charles Casper Stockham', 'Diana DeGette', 'Raymon Anthony Doane']\n"
     ]
    }
   ],
   "source": [
    "# Sort candidate_list alphabetically\n",
    "sorted_candidate_list = sorted(candidate_list)\n",
    "\n",
    "# Loop through candidate_list to append the name to unique_candidates list if the following name does not match\n",
    "for i in range(len(sorted_candidate_list)-1):\n",
    "    if sorted_candidate_list[i] != sorted_candidate_list[i+1]:\n",
    "        unique_candidates.append(sorted_candidate_list[i])\n",
    "\n",
    "# Append the last name to the unique_candidates list (would be excluded with about loop code)\n",
    "last_candidate = sorted_candidate_list[len(sorted_candidate_list)-1]\n",
    "unique_candidates.append(last_candidate)\n",
    "\n",
    "print(unique_candidates)"
   ]
  },
  {
   "cell_type": "code",
   "execution_count": 58,
   "metadata": {},
   "outputs": [
    {
     "name": "stdout",
     "output_type": "stream",
     "text": [
      "0.2304854332167558\n",
      "0.7381224794501652\n",
      "0.03139208733307908\n"
     ]
    }
   ],
   "source": [
    "# Calculate percentage of votes each candidate won\n",
    "stockham_votes_percent = stockham_votes/total_votes\n",
    "degette_votes_percent = degette_votes/total_votes\n",
    "doane_votes_percent = doane_votes/total_votes\n",
    "\n",
    "print(stockham_votes_percent)\n",
    "print(degette_votes_percent)\n",
    "print(doane_votes_percent)"
   ]
  },
  {
   "cell_type": "code",
   "execution_count": 59,
   "metadata": {},
   "outputs": [
    {
     "name": "stdout",
     "output_type": "stream",
     "text": [
      "Diana DeGette\n"
     ]
    }
   ],
   "source": [
    "# Put candidate vote counts into a list\n",
    "total_votes_by_candidate = [stockham_votes, degette_votes, doane_votes]\n",
    "\n",
    "# Define new variable based on which of the candidates had the max number of votes\n",
    "winner_votes = max(total_votes_by_candidate)\n",
    "winner_name = \"\"\n",
    "\n",
    "# Use IF statement to find winner based on max test vote count\n",
    "if winner_votes == stockham_votes:\n",
    "    winner_name = \"Charles Casper Stockham\"\n",
    "elif winner_votes == degette_votes:\n",
    "    winner_name = \"Diana DeGette\"\n",
    "elif winner_votes == doane_votes:\n",
    "    winner_name = \"Raymon Anthony Doane\"\n",
    "else:\n",
    "    winner_name = \"NO WINNER\"\n",
    "\n",
    "print(winner_name)"
   ]
  },
  {
   "cell_type": "code",
   "execution_count": 63,
   "metadata": {},
   "outputs": [],
   "source": [
    "# Create output txt file\n",
    "output_txt_file = os.path.join(\"Analysis\",\"analysis.txt\")\n",
    "with open(output_txt_file,\"w\") as txt_data_file:\n",
    "    txtwriter = [\"Election Results \\n\",\n",
    "                 \"------------------------- \\n\",\n",
    "                 f\"Total Votes: {total_votes} \\n\",\n",
    "                 \"------------------------- \\n\",\n",
    "                 f\"Charles Casper Stockham: {round(stockham_votes_percent * 100,3)}% ({stockham_votes}) \\n\",\n",
    "                 f\"Diana DeGette: {round(degette_votes_percent * 100,3)}% ({degette_votes}) \\n\",\n",
    "                 f\"Raymon Anthony Doane: {round(doane_votes_percent * 100,3)}& ({doane_votes}) \\n\",\n",
    "                 \"------------------------- \\n\",\n",
    "                 f\"Winner: {winner_name} \\n\",\n",
    "                 \"------------------------- \\n\"]\n",
    "    txt_data_file.writelines(txtwriter)\n",
    "    txt_data_file.close()"
   ]
  },
  {
   "cell_type": "code",
   "execution_count": 71,
   "metadata": {},
   "outputs": [
    {
     "name": "stdout",
     "output_type": "stream",
     "text": [
      "Election Results\n",
      "-------------------------\n",
      "Total Votes: 369711\n",
      "-------------------------\n",
      "Charles Casper Stockham: 23.049% (0)\n",
      "Diana DeGette: 73.812% (0)\n",
      "Raymon Anthony Doane: 3.139& (369711)\n",
      "-------------------------\n",
      "Winner: Diana DeGette\n",
      "-------------------------\n"
     ]
    }
   ],
   "source": [
    "# Show the output in the terminal\n",
    "print(\"Election Results\")\n",
    "print(\"-------------------------\")\n",
    "print(f\"Total Votes: {total_votes}\")\n",
    "print(\"-------------------------\")\n",
    "print(f\"Charles Casper Stockham: {round(stockham_votes_percent * 100,3)}% ({stockham_votes})\")\n",
    "print(f\"Diana DeGette: {round(degette_votes_percent * 100,3)}% ({degette_votes})\")\n",
    "print(f\"Raymon Anthony Doane: {round(doane_votes_percent * 100,3)}& ({doane_votes})\")\n",
    "print(\"-------------------------\")\n",
    "print(f\"Winner: {winner_name}\")\n",
    "print(\"-------------------------\")"
   ]
  }
 ],
 "metadata": {
  "kernelspec": {
   "display_name": "base",
   "language": "python",
   "name": "python3"
  },
  "language_info": {
   "codemirror_mode": {
    "name": "ipython",
    "version": 3
   },
   "file_extension": ".py",
   "mimetype": "text/x-python",
   "name": "python",
   "nbconvert_exporter": "python",
   "pygments_lexer": "ipython3",
   "version": "3.10.9"
  },
  "orig_nbformat": 4
 },
 "nbformat": 4,
 "nbformat_minor": 2
}
