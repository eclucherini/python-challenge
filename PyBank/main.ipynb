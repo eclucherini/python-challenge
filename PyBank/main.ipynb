{
 "cells": [
  {
   "cell_type": "code",
   "execution_count": 138,
   "metadata": {},
   "outputs": [],
   "source": [
    "# Start with necessary imports\n",
    "import os\n",
    "import csv"
   ]
  },
  {
   "cell_type": "code",
   "execution_count": 139,
   "metadata": {},
   "outputs": [
    {
     "data": {
      "text/plain": [
       "'Resources\\\\budget_data.csv'"
      ]
     },
     "execution_count": 139,
     "metadata": {},
     "output_type": "execute_result"
    }
   ],
   "source": [
    "# Use csv path\n",
    "csvpath = os.path.join(\"Resources\",\"budget_data.csv\")\n",
    "csvpath"
   ]
  },
  {
   "cell_type": "code",
   "execution_count": 147,
   "metadata": {},
   "outputs": [],
   "source": [
    "# Define variables\n",
    "total_months = 0\n",
    "total_profits = 0\n",
    "monthly_profit_change = 0\n",
    "monthly_profit_change_list = []\n",
    "greatest_increase = 0\n",
    "greatest_increase_month = (\"\")\n",
    "greatest_decrease = 0\n",
    "greatest_decrease_month = (\"\")"
   ]
  },
  {
   "cell_type": "code",
   "execution_count": 141,
   "metadata": {},
   "outputs": [],
   "source": [
    "# Open csv file\n",
    "with open(csvpath) as budget_file:\n",
    "    csvreader = csv.reader(budget_file,delimiter=',')\n",
    "    csv_header = next(csvreader)\n",
    "\n",
    "    # Create new lists from each column of data to calculate total number of months and total profits/losses\n",
    "    dates = []\n",
    "    profits_losses = []\n",
    "\n",
    "    # Read each row of data after the header\n",
    "    for row in csvreader:\n",
    "\n",
    "        # Loop through each column to append each row of data to lists\n",
    "        date_row = row[0]\n",
    "        profit_loss_row = row[1]\n",
    "\n",
    "        dates.append(date_row)\n",
    "        profits_losses.append(profit_loss_row)\n",
    "    \n",
    "      #   print(dates)\n",
    "      #   print(profits_losses)\n",
    "\n",
    "        # Create list to calculate monthly change\n",
    "        monthly_profit_change_list.append(row)\n",
    "\n",
    "        # Loop through list and get monthly profit/loss change (current month - previous month)\n",
    "        for i in range(len(monthly_profit_change_list)-1):       \n",
    "            monthly_profit_change = int(monthly_profit_change_list[i + 1][1]) - int(monthly_profit_change_list[i][1])\n",
    "\n",
    "            # Greatest increase in profits (date and amount)\n",
    "            if greatest_increase < monthly_profit_change:\n",
    "               greatest_increase = monthly_profit_change\n",
    "               greatest_increase_month = monthly_profit_change_list[i + 1][0]\n",
    "\n",
    "            # Greatest decrease in profits (date and amount)\n",
    "            if greatest_decrease > monthly_profit_change:\n",
    "               greatest_decrease = monthly_profit_change\n",
    "               greatest_decrease_month = monthly_profit_change_list[i + 1][0]\n",
    "            \n",
    "            # Average change in profits/losses\n",
    "            average_change = int((monthly_profit_change_list)[-1][1]) - int((monthly_profit_change_list)[0][1]) / (len(monthly_profit_change_list)-1)\n"
   ]
  },
  {
   "cell_type": "code",
   "execution_count": 142,
   "metadata": {},
   "outputs": [],
   "source": [
    "# Change Profits/Losses list into integers\n",
    "for i in range(0,len(profits_losses)):\n",
    "    profits_losses[i] = int(profits_losses[i])"
   ]
  },
  {
   "cell_type": "code",
   "execution_count": 143,
   "metadata": {},
   "outputs": [
    {
     "name": "stdout",
     "output_type": "stream",
     "text": [
      "86\n"
     ]
    }
   ],
   "source": [
    "# Count total number of months in first column\n",
    "total_months = len(dates)\n",
    "print(total_months)"
   ]
  },
  {
   "cell_type": "code",
   "execution_count": 144,
   "metadata": {},
   "outputs": [
    {
     "name": "stdout",
     "output_type": "stream",
     "text": [
      "382539\n"
     ]
    }
   ],
   "source": [
    "# Sum total of Profit/Losses in second column\n",
    "def sum():\n",
    "    for profit_loss_row in range(len(profits_losses)):\n",
    "        sum = 0\n",
    "        sum += profits_losses[profit_loss_row]\n",
    "    return sum\n",
    "    \n",
    "total_profits = sum()\n",
    "print(total_profits)"
   ]
  },
  {
   "cell_type": "code",
   "execution_count": null,
   "metadata": {},
   "outputs": [],
   "source": [
    "# Create output txt file\n",
    "output_txt_file = os.path.join(\"Analysis\",\"analysis.txt\")\n",
    "with open(output_txt_file,\"w\") as txt_data_file:\n",
    "    txtwriter = [\"Financial Analysis \\n\",\n",
    "                 \"---------------------------- \\n\",\n",
    "                 f\"Total Months: {total_months} \\n\",\n",
    "                 f\"Total: ${total_profits} \\n\",\n",
    "                 f\"Average Change: ${average_change} \\n\",\n",
    "                 f\"Greatest Increase in Profits: {greatest_increase_month} (${greatest_increase}) \\n\",\n",
    "                 f\"Greatest Decrease in Profits: {greatest_decrease_month} (${greatest_decrease}) \\n\"]\n",
    "    txt_data_file.writelines(txtwriter)\n",
    "    txt_data_file.close()"
   ]
  },
  {
   "cell_type": "code",
   "execution_count": 145,
   "metadata": {},
   "outputs": [],
   "source": [
    "# Create output csv file\n",
    "output_file = os.path.join(\"Output\",\"pybank.csv\")\n",
    "with open(output_file,\"w\",newline=\"\") as datafile:\n",
    "    writer = csv.writer(datafile)\n",
    "\n",
    "    # Write output pybank.csv\n",
    "    writer.writerow([\"Financial Analysis\"])\n",
    "    writer.writerow([\"----------------------------\"])\n",
    "    writer.writerow([f'Total Months: {total_months}'])\n",
    "    writer.writerow([f'Total: ${total_profits}'])\n",
    "    writer.writerow([f'Average Change: ${average_change}'])\n",
    "    writer.writerow([f'Greatest Increase in Profits: {greatest_increase_month} (${greatest_increase})'])\n",
    "    writer.writerow([f'Greatest Decrease in Profits: {greatest_decrease_month} (${greatest_decrease})'])\n"
   ]
  },
  {
   "cell_type": "code",
   "execution_count": 146,
   "metadata": {},
   "outputs": [
    {
     "name": "stdout",
     "output_type": "stream",
     "text": [
      "Financial Analysis\n",
      "----------------------------\n",
      "Total Months: 86\n",
      "Total: $382539\n",
      "Average Change : $369727.43529411766\n",
      "Greatest Increase in Profits: Aug-16 ($1862002)\n",
      "Greatest Decrease in Profits: Feb-14 ($-1825558)\n"
     ]
    }
   ],
   "source": [
    "# Show the output in terminal\n",
    "print(\"Financial Analysis\")\n",
    "print(\"----------------------------\")\n",
    "print(f'Total Months: {total_months}')\n",
    "print(f'Total: ${total_profits}')\n",
    "print(f'Average Change: ${average_change}')\n",
    "print(f'Greatest Increase in Profits: {greatest_increase_month} (${greatest_increase})')\n",
    "print(f'Greatest Decrease in Profits: {greatest_decrease_month} (${greatest_decrease})')\n"
   ]
  }
 ],
 "metadata": {
  "kernelspec": {
   "display_name": "base",
   "language": "python",
   "name": "python3"
  },
  "language_info": {
   "codemirror_mode": {
    "name": "ipython",
    "version": 3
   },
   "file_extension": ".py",
   "mimetype": "text/x-python",
   "name": "python",
   "nbconvert_exporter": "python",
   "pygments_lexer": "ipython3",
   "version": "3.10.9"
  },
  "orig_nbformat": 4
 },
 "nbformat": 4,
 "nbformat_minor": 2
}
